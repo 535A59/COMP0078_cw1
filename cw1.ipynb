{
 "cells": [
  {
   "cell_type": "markdown",
   "metadata": {},
   "source": [
    "# Supervised Learning Coursework 1 Coding Part"
   ]
  },
  {
   "cell_type": "code",
   "execution_count": 311,
   "metadata": {},
   "outputs": [],
   "source": [
    "import numpy as np\n",
    "import matplotlib.pyplot as plt\n",
    "import pandas as pd\n",
    "from matplotlib.colors import ListedColormap\n",
    "from collections import defaultdict\n",
    "from sklearn.model_selection import train_test_split"
   ]
  },
  {
   "cell_type": "markdown",
   "metadata": {},
   "source": [
    "##### Initialise condition for question a"
   ]
  },
  {
   "cell_type": "code",
   "execution_count": 453,
   "metadata": {},
   "outputs": [],
   "source": [
    "data_x = np.array([1, 2, 3, 4])\n",
    "data_y = np.array([3, 2, 0, 5])"
   ]
  },
  {
   "cell_type": "markdown",
   "metadata": {},
   "source": [
    "### Part 1"
   ]
  },
  {
   "cell_type": "markdown",
   "metadata": {},
   "source": [
    "#### Question 1"
   ]
  },
  {
   "cell_type": "code",
   "execution_count": 454,
   "metadata": {},
   "outputs": [],
   "source": [
    "\n",
    "def extract_features(x, degree):\n",
    "    return np.array([x**i for i in range(degree + 1)]).T\n",
    "\n",
    "def linear_regression(X, y):\n",
    "    return np.linalg.solve(X.T @ X, X.T @ y)"
   ]
  },
  {
   "cell_type": "markdown",
   "metadata": {},
   "source": [
    "##### Question 1a"
   ]
  },
  {
   "cell_type": "code",
   "execution_count": null,
   "metadata": {},
   "outputs": [],
   "source": [
    "plt.figure(figsize=(10, 6))\n",
    "x_plot = np.linspace(0, 5, 500)\n",
    "\n",
    "for degree in range(0, 4):\n",
    "    X = extract_features(data_x, degree)\n",
    "    coeffs = linear_regression(X, data_y).round(2)\n",
    "    X_plot = extract_features(x_plot, degree)\n",
    "    y_plot = X_plot @ coeffs\n",
    "    plt.plot(x_plot, y_plot, label=f'k={degree+1}')\n",
    "\n",
    "plt.scatter(data_x, data_y, color='red', label='Data Points')\n",
    "plt.xlabel('x')\n",
    "plt.ylabel('y')\n",
    "plt.ylim(-5, 10)\n",
    "plt.title('Polynomial Fits for Different Degrees')\n",
    "plt.legend()\n",
    "plt.grid(True)\n",
    "ax = plt.gca()\n",
    "ax.spines['bottom'].set_position(('data', 0))\n",
    "ax.spines['left'].set_position(('data', 0))\n",
    "ax.spines['top'].set_visible(False)\n",
    "ax.spines['right'].set_visible(False)\n",
    "plt.show()"
   ]
  },
  {
   "cell_type": "markdown",
   "metadata": {},
   "source": [
    "##### Question 1b"
   ]
  },
  {
   "cell_type": "code",
   "execution_count": null,
   "metadata": {},
   "outputs": [],
   "source": [
    "for degree in range(0, 4):\n",
    "    X = extract_features(data_x, degree)\n",
    "    coeffs = linear_regression(X, data_y).round(2)\n",
    "    print(f\"Degree {degree+1} polynomial coefficients: {coeffs}\")"
   ]
  },
  {
   "cell_type": "markdown",
   "metadata": {},
   "source": [
    "##### Question 1c"
   ]
  },
  {
   "cell_type": "code",
   "execution_count": null,
   "metadata": {},
   "outputs": [],
   "source": [
    "for degree in range(0, 4):\n",
    "    X = extract_features(data_x, degree)\n",
    "    coeffs = linear_regression(X, data_y)\n",
    "    coeffs = coeffs.round(2)\n",
    "    y_pred = X @ coeffs\n",
    "    mse = np.mean((data_y - y_pred) ** 2)\n",
    "    print(f\"MSE for k={degree+1}: {mse}\")"
   ]
  },
  {
   "cell_type": "markdown",
   "metadata": {},
   "source": [
    "#### Question 2"
   ]
  },
  {
   "cell_type": "markdown",
   "metadata": {},
   "source": [
    "##### Question 2a i"
   ]
  },
  {
   "cell_type": "code",
   "execution_count": null,
   "metadata": {},
   "outputs": [],
   "source": [
    "def g_sigma(x, sigma):\n",
    "    noise = np.random.normal(0, sigma, size=len(x))\n",
    "    return np.sin(2 * np.pi * x)**2 + noise\n",
    "\n",
    "# 生成数据并绘图\n",
    "np.random.seed(66)\n",
    "x_sample = np.random.uniform(0,1,30)\n",
    "y_sample = g_sigma(x_sample, sigma=0.07)\n",
    "\n",
    "x_plot = np.linspace(0, 1, 500)\n",
    "y_plot = np.sin(2 * np.pi * x_plot)**2\n",
    "\n",
    "plt.figure(figsize=(10, 6))\n",
    "plt.plot(x_plot, y_plot, label='sin^2(2πx)')\n",
    "plt.scatter(x_sample, y_sample, color='red', label='Noisy Data Points')\n",
    "plt.xlabel('x')\n",
    "plt.ylabel('y')\n",
    "plt.title('Function with Noise')\n",
    "plt.legend()\n",
    "plt.grid(True)\n",
    "plt.savefig('2(a)i.png', bbox_inches = 'tight')\n",
    "plt.show()"
   ]
  },
  {
   "cell_type": "markdown",
   "metadata": {},
   "source": [
    "##### Question 2a ii"
   ]
  },
  {
   "cell_type": "code",
   "execution_count": null,
   "metadata": {},
   "outputs": [],
   "source": [
    "degrees = [2, 5, 10, 14, 18]\n",
    "plt.figure(figsize=(10, 6))\n",
    "x_plot = np.linspace(0, 1, 500)\n",
    "for degree in degrees:\n",
    "    X = extract_features(x_sample, degree-1)\n",
    "    coeffs = linear_regression(X, y_sample)\n",
    "    X_plot = extract_features(x_plot, degree-1)\n",
    "    y_plot = X_plot @ coeffs\n",
    "    plt.plot(x_plot, y_plot, label=f'k={degree}')\n",
    "\n",
    "\n",
    "plt.scatter(x_sample, y_sample, color='red', label='Data Points')\n",
    "plt.xlabel('x')\n",
    "plt.ylabel('y')\n",
    "plt.title('Polynomial Fits for Different Degrees')\n",
    "plt.legend()\n",
    "plt.grid(True)\n",
    "plt.ylim(-1.5, 1.5)\n",
    "ax = plt.gca()\n",
    "ax.spines['bottom'].set_position(('data', 0))\n",
    "ax.spines['left'].set_position(('data', 0))\n",
    "ax.spines['top'].set_visible(False)\n",
    "ax.spines['right'].set_visible(False)\n",
    "plt.savefig('2(a)ii.png', bbox_inches = 'tight')\n",
    "plt.show()\n"
   ]
  },
  {
   "cell_type": "markdown",
   "metadata": {},
   "source": [
    "##### Question 2b"
   ]
  },
  {
   "cell_type": "code",
   "execution_count": null,
   "metadata": {},
   "outputs": [],
   "source": [
    "training_errors = []\n",
    "degrees = [i for i in range(1,19)]\n",
    "for degree in range(0,18):\n",
    "    X = extract_features(x_sample, degree)\n",
    "    coeffs = linear_regression(X, y_sample)\n",
    "    y_pred = X @ coeffs\n",
    "    mse = np.mean((y_sample-y_pred)**2)\n",
    "    training_errors.append(mse)\n",
    "plt.figure(figsize=(10, 6))\n",
    "plt.plot(degrees, np.log(training_errors), marker='o')\n",
    "plt.xlabel('Polynomial Dimension (k)')\n",
    "plt.ylabel('ln(MSE)')\n",
    "plt.title('Log Training Error vs Polynomial Dimension')\n",
    "plt.grid(True)\n",
    "plt.savefig('2(b).png', bbox_inches = 'tight')\n",
    "plt.show()"
   ]
  },
  {
   "cell_type": "markdown",
   "metadata": {},
   "source": [
    "##### Question 2c"
   ]
  },
  {
   "cell_type": "code",
   "execution_count": null,
   "metadata": {},
   "outputs": [],
   "source": [
    "\n",
    "x_test = np.random.uniform(0,1,1000)\n",
    "y_test = g_sigma(x_test, sigma=0.07)\n",
    "\n",
    "testing_errors = []\n",
    "degrees = [i for i in range(1,19)]\n",
    "for degree in range(0,18):\n",
    "    X = extract_features(x_sample, degree)\n",
    "    coeffs = linear_regression(X, y_sample)\n",
    "    X_t = extract_features(x_test, degree)\n",
    "    y_pred = X_t @ coeffs\n",
    "    mse = np.mean((y_test-y_pred)**2)\n",
    "    testing_errors.append(mse)\n",
    "\n",
    "plt.figure(figsize=(10, 6))\n",
    "plt.plot(degrees, np.log(testing_errors), marker='o')\n",
    "plt.xlabel('Polynomial Dimension (k)')\n",
    "plt.ylabel('ln(MSE)')\n",
    "plt.title('Log Testing Error vs Polynomial Dimension')\n",
    "plt.grid(True)\n",
    "plt.savefig('2(c).png', bbox_inches = 'tight')\n",
    "plt.show()\n",
    "\n",
    "\n"
   ]
  },
  {
   "cell_type": "markdown",
   "metadata": {},
   "source": [
    "##### Question 2d"
   ]
  },
  {
   "cell_type": "code",
   "execution_count": null,
   "metadata": {},
   "outputs": [],
   "source": [
    "total_testing_errors = np.array([0.0 for i in range(18)])\n",
    "total_train_errors = np.array([0.0 for i in range(18)])\n",
    "for experiment in range(100):\n",
    "    np.random.seed(experiment)\n",
    "    sub_x_sample = np.random.uniform(0,1,30)\n",
    "    sub_y_sample = g_sigma(sub_x_sample, sigma=0.07)\n",
    "    testing_errors = np.array([0.0 for i in range(18)])\n",
    "    training_errors = np.array([0.0 for i in range(18)])\n",
    "    for degree in range(0,18):\n",
    "        X = extract_features(sub_x_sample, degree)\n",
    "        coeffs = linear_regression(X, sub_y_sample)\n",
    "        X_t = extract_features(x_test, degree)\n",
    "        y_train_pred = X @ coeffs\n",
    "        y_test_pred = X_t @ coeffs\n",
    "        mse_train = np.mean((sub_y_sample-y_train_pred)**2)\n",
    "        mse_test = np.mean((y_test-y_test_pred)**2)\n",
    "        training_errors[degree] = mse_train\n",
    "        testing_errors[degree] = mse_test\n",
    "    total_testing_errors = total_testing_errors + testing_errors\n",
    "    total_train_errors = total_train_errors + training_errors\n",
    "average_testing_errors = total_testing_errors / 100\n",
    "average_train_errors = total_train_errors / 100\n",
    "plt.figure(figsize=(10, 6))\n",
    "plt.plot([i for i in range(1,19)], np.log(average_testing_errors), marker='o',label='test_MSE')\n",
    "plt.plot([i for i in range(1,19)], np.log(average_train_errors), marker='o',label='train_MSE')\n",
    "plt.xlabel('Polynomial Dimension (k)')\n",
    "plt.ylabel('ln(avg MSE)')\n",
    "plt.title('Log Average Testing Error vs Polynomial Dimension')\n",
    "plt.grid(True)\n",
    "plt.legend()\n",
    "plt.savefig('2(d).png', bbox_inches = 'tight')\n",
    "plt.show()"
   ]
  },
  {
   "cell_type": "markdown",
   "metadata": {},
   "source": [
    "#### Question 3\n"
   ]
  },
  {
   "cell_type": "code",
   "execution_count": null,
   "metadata": {},
   "outputs": [],
   "source": [
    "def extract_features_trig(x, degree):\n",
    "    return np.column_stack([np.sin((i + 1) * np.pi * x) for i in range(degree)])\n",
    "np.random.seed(0)\n",
    "\n",
    "\n",
    "x_test = np.random.uniform(0, 1, 1000)\n",
    "y_test = g_sigma(x_test, sigma=0.07)\n",
    "\n",
    "\n",
    "n_experiments = 100 \n",
    "degrees = [i for i in range(1, 19)]  \n",
    "\n",
    "x_sample = np.random.uniform(0, 1, 50)\n",
    "y_sample = g_sigma(x_sample, sigma=0.07)\n",
    "\n",
    "testing_errors = []\n",
    "\n",
    "for degree in degrees:\n",
    "    X_train = extract_features_trig(x_sample, degree)\n",
    "    coeffs = linear_regression(X_train, y_sample)\n",
    "    \n",
    "    X_test = extract_features_trig(x_test, degree)\n",
    "    y_pred = X_test @ coeffs\n",
    "    mse = np.mean((y_test - y_pred) ** 2)\n",
    "    testing_errors.append(mse)\n",
    "\n",
    "plt.figure(figsize=(10, 6))\n",
    "plt.plot(degrees, np.log(testing_errors), marker='o')\n",
    "plt.xlabel('Basis Dimension (k)')\n",
    "plt.ylabel('ln(MSE)')\n",
    "plt.title('Log Testing Error vs Basis Dimension (Trig Basis)')\n",
    "plt.grid(True)\n",
    "plt.show()\n",
    "\n",
    "\n",
    "testing_errors_all = []\n",
    "\n",
    "for experiment in range(n_experiments):\n",
    "   \n",
    "    x_sample = np.random.uniform(0, 1, 50)\n",
    "    y_sample = g_sigma(x_sample, sigma=0.07)\n",
    "  \n",
    "    testing_errors = []\n",
    "    \n",
    "    for degree in degrees:\n",
    "       \n",
    "        X_train = extract_features_trig(x_sample, degree)\n",
    "        coeffs = linear_regression(X_train, y_sample)\n",
    "        \n",
    "        # 提取测试特征并计算误差\n",
    "        X_test = extract_features_trig(x_test, degree)\n",
    "        y_pred = X_test @ coeffs\n",
    "        mse = np.mean((y_test - y_pred) ** 2)\n",
    "        testing_errors.append(mse)\n",
    "    testing_errors_all.append(testing_errors)\n",
    "\n",
    "average_testing_errors = np.mean(testing_errors_all, axis=0)\n",
    "\n",
    "\n",
    "plt.figure(figsize=(10, 6))\n",
    "plt.plot(degrees, np.log(average_testing_errors), marker='o')\n",
    "plt.xlabel('Basis Dimension (k)')\n",
    "plt.ylabel('ln(avg MSE)')\n",
    "plt.title('Log Average Testing Error vs Basis Dimension (Trig Basis)')\n",
    "plt.grid(True)\n",
    "plt.show()"
   ]
  },
  {
   "cell_type": "markdown",
   "metadata": {},
   "source": [
    "### Question 4"
   ]
  },
  {
   "cell_type": "code",
   "execution_count": null,
   "metadata": {},
   "outputs": [],
   "source": [
    "csv_link = \"http://www.cs.ucl.ac.uk/staff/M.Herbster/boston-filter/Boston-filtered.csv\"\n",
    "\n",
    "data = pd.read_csv(csv_link)\n",
    "\n",
    "display(data.head())"
   ]
  },
  {
   "cell_type": "code",
   "execution_count": null,
   "metadata": {},
   "outputs": [],
   "source": [
    "X = data.iloc[:, :-1]  # All columns except the last\n",
    "y = data.iloc[:, -1] \n",
    "results = {\"method\": [], \"train_mse\": [], \"test_mse\": []}\n",
    "Naive_result = defaultdict(list)\n",
    "Single_result = {f'Single Attribute{i+1}':defaultdict(list)for i in range(X.shape[1])}\n",
    "All_result = defaultdict(list)\n",
    "# Define number of runs\n",
    "num_runs = 20\n",
    "\n",
    "for _ in range(num_runs):\n",
    "    # Split data into training and testing sets (2/3 for training, 1/3 for testing)\n",
    "    X_train, X_test, y_train, y_test = train_test_split(X, y, test_size=1/3, random_state=None)\n",
    "\n",
    "    # (a) Predicting with the mean y-value on the training set\n",
    "    ones_train = np.ones_like(y_train).reshape(-1, 1)\n",
    "    ones_test = np.ones_like(y_test).reshape(-1, 1)\n",
    "\n",
    "    w_naive = linear_regression(ones_train, y_train)\n",
    "\n",
    "    y_train_pred_naive = ones_train@w_naive\n",
    "    y_test_pred_naive = ones_test@w_naive\n",
    "\n",
    "    train_mse_naive = np.mean((y_train - y_train_pred_naive) ** 2)\n",
    "    test_mse_naive = np.mean((y_test - y_test_pred_naive) ** 2)\n",
    "\n",
    "    Naive_result[\"train_mse\"].append(train_mse_naive)\n",
    "    Naive_result[\"test_mse\"].append(test_mse_naive)\n",
    "\n",
    "    # (b) Predicting with a single attribute and a bias term\n",
    "    for i in range(X.shape[1]):\n",
    "        X_single_train = X_train.iloc[:, i].values.reshape(-1, 1)\n",
    "        X_single_test = X_test.iloc[:, i].values.reshape(-1, 1)\n",
    "\n",
    "        X_single_train = X_single_train.reshape(-1)\n",
    "        X_single_train = extract_features(X_single_train, 1)\n",
    "        w_single = linear_regression(X_single_train, y_train)\n",
    "\n",
    "        X_single_test = X_single_test.reshape(-1)\n",
    "        X_single_test = extract_features(X_single_test, 1)\n",
    "\n",
    "        y_train_pred_singhe = X_single_train@w_single\n",
    "        y_test_pred_single = X_single_test@w_single\n",
    "\n",
    "        train_mse_single = np.mean((y_train-y_train_pred_singhe)**2)\n",
    "        test_mse_single = np.mean((y_test-y_test_pred_single)**2)\n",
    "\n",
    "        Single_result[f'Single Attribute{i+1}'][\"train_mse\"].append(train_mse_single)\n",
    "        Single_result[f'Single Attribute{i+1}'][\"test_mse\"].append(test_mse_single)\n",
    "\n",
    "    # (c) Predicting with all attributes\n",
    "    w_all = linear_regression(X_train, y_train)\n",
    "\n",
    "    y_train_pred_all = X_train@w_all\n",
    "    y_test_pred_all = X_test@w_all\n",
    "\n",
    "    train_mse_all = np.mean((y_train-y_train_pred_all)**2)\n",
    "    test_mse_all = np.mean((y_test-y_test_pred_all)**2)\n",
    "\n",
    "    All_result[\"train_mse\"].append(train_mse_all)\n",
    "    All_result[\"test_mse\"].append(test_mse_all)\n",
    "\n",
    "Naive_result[\"train_mse\"] = np.mean(Naive_result[\"train_mse\"])\n",
    "Naive_result[\"test_mse\"] = np.mean(Naive_result[\"test_mse\"])\n",
    "\n",
    "print('question a')\n",
    "print(\"Naive method:\")\n",
    "print(f\"Train MSE: {Naive_result['train_mse']}\")\n",
    "print(f\"Test MSE: {Naive_result['test_mse']}\")\n",
    "print('')\n",
    "print('question b')\n",
    "print('The naive regression in problem a simply computes the mean of the training set and uses that as the prediction for all test data points.')\n",
    "print('')\n",
    "print('question c')\n",
    "for i in range(X.shape[1]):\n",
    "    Single_result[f'Single Attribute{i+1}'][\"train_mse\"] = np.mean(Single_result[f'Single Attribute{i+1}'][\"train_mse\"])\n",
    "    Single_result[f'Single Attribute{i+1}'][\"test_mse\"] = np.mean(Single_result[f'Single Attribute{i+1}'][\"test_mse\"])\n",
    "    print(f\"Single Attribute {i+1}:\")\n",
    "    print(f\"Train MSE: {Single_result[f'Single Attribute{i+1}']['train_mse']}\")\n",
    "    print(f\"Test MSE: {Single_result[f'Single Attribute{i+1}']['test_mse']}\")\n",
    "    print('')\n",
    "print('question d')\n",
    "All_result[\"train_mse\"] = np.mean(All_result[\"train_mse\"])\n",
    "All_result[\"test_mse\"] = np.mean(All_result[\"test_mse\"])\n",
    "print(\"All Attributes:\")\n",
    "print(f\"Train MSE: {All_result['train_mse']}\")\n",
    "print(f\"Test MSE: {All_result['test_mse']}\")"
   ]
  },
  {
   "cell_type": "markdown",
   "metadata": {},
   "source": [
    "### Question 5"
   ]
  },
  {
   "cell_type": "code",
   "execution_count": 420,
   "metadata": {},
   "outputs": [],
   "source": [
    "def gaussian_kernel(X1,X2,sigma):\n",
    "    X1_sq = np.sum(X1**2, axis=1).reshape(-1, 1)\n",
    "    X2_sq = np.sum(X2**2, axis=1).reshape(1, -1)\n",
    "    dist_sq = X1_sq + X2_sq - 2 * X1@X2.T\n",
    "    K = np.exp(-dist_sq / (2 * (sigma ** 2)))\n",
    "    return K\n",
    "\n",
    "def kernel_ridge_regression(X_train, y_train, gamma, sigma):\n",
    "    K = gaussian_kernel(X_train, X_train, sigma)\n",
    "    w =  np.linalg.solve(K + gamma * len(K) * np.eye(len(K)),y_train)\n",
    "    return w\n",
    "\n",
    "def kfold_cross_validation(X, y, k, gamma, sigma):\n",
    "    n_samples = len(X)\n",
    "    fold_size = n_samples // k\n",
    "    indices = np.arange(n_samples)\n",
    "    np.random.shuffle(indices)\n",
    "    errors = []\n",
    "\n",
    "    for i in range(k):\n",
    "        valid_indices = indices[i * fold_size:(i + 1) * fold_size]\n",
    "        train_indices = np.concatenate([indices[:i * fold_size], indices[(i + 1) * fold_size:]])\n",
    "\n",
    "        X_train, X_valid = X[train_indices], X[valid_indices]\n",
    "        y_train, y_valid = y[train_indices], y[valid_indices]\n",
    "\n",
    "        w = kernel_ridge_regression(X_train, y_train, gamma, sigma)\n",
    "        K_valid = gaussian_kernel(X_train, X_valid, sigma)\n",
    "        y_val_pred = K_valid.T @ w\n",
    "        errors.append(np.mean((y_valid - y_val_pred) ** 2))\n",
    "    print(errors)\n",
    "\n",
    "    return np.mean(errors)"
   ]
  },
  {
   "cell_type": "code",
   "execution_count": 428,
   "metadata": {},
   "outputs": [],
   "source": [
    "data_url = \"http://www0.cs.ucl.ac.uk/staff/M.Herbster/boston-filter/Boston-filtered.csv\"\n",
    "data = pd.read_csv(data_url)\n",
    "\n",
    "# 提取特征和目标\n",
    "X = data.iloc[:, :-1].values\n",
    "y = data.iloc[:, -1].values\n"
   ]
  },
  {
   "cell_type": "code",
   "execution_count": null,
   "metadata": {},
   "outputs": [],
   "source": [
    "gammas = []\n",
    "sigmas = []\n",
    "gamma_index = []\n",
    "sigma_index = []\n",
    "\n",
    "for i in range(-40, -25):\n",
    "    gammas.append(2**i)\n",
    "    gamma_index.append(i)\n",
    "\n",
    "for i in np.arange(7, 13.5, 0.5):\n",
    "    sigmas.append(2**i)\n",
    "    sigma_index.append(i)\n",
    "\n",
    "# 记录结果\n",
    "results = []\n",
    "various_results = []\n",
    "\n",
    "best_gamma = None\n",
    "best_sigma = None\n",
    "best_cv_error = float('inf')\n",
    "cv_errors = np.zeros((len(sigmas), len(gammas)))\n",
    "\n",
    "X_train, X_test, y_train, y_test = train_test_split(X, y, test_size=1/3, random_state=42)\n",
    "\n",
    "\n",
    "gamma_power = -40\n",
    "sigma_power = 7\n",
    "best_gamma_power = 0\n",
    "best_sigma_power = 0\n",
    "for gamma in gammas:\n",
    "    for sigma in sigmas:\n",
    "        print(gamma_power, sigma_power)\n",
    "        cv_error = kfold_cross_validation(X_train, y_train, k=5, gamma=gamma, sigma=sigma)\n",
    "        cv_errors[sigma_index.index(np.log2(sigma)), gamma_index.index(np.log2(gamma))] = cv_error\n",
    "        results.append({'gamma': gamma, 'sigma': sigma, 'cv_error': cv_error})\n",
    "        print(cv_error)\n",
    "\n",
    "        if cv_error < best_cv_error:\n",
    "            best_gamma = gamma\n",
    "            best_sigma = sigma\n",
    "            best_gamma_power = gamma_power\n",
    "            best_sigma_power = sigma_power\n",
    "            best_cv_error = cv_error\n",
    "        sigma_power += 0.5\n",
    "    sigma_power = 7\n",
    "    gamma_power += 1\n",
    "\n",
    "# 输出最佳参数\n",
    "print(f\"Best Gamma: 2^{best_gamma_power}, Best Sigma: 2^{best_sigma_power}, CV Error: {best_cv_error}\")\n"
   ]
  },
  {
   "cell_type": "code",
   "execution_count": null,
   "metadata": {},
   "outputs": [],
   "source": [
    "Z = cv_errors\n",
    "Z = Z.reshape(15,13)\n",
    "X, Y = np.meshgrid(sigma_index,gamma_index)\n",
    "fig = plt.figure(figsize = (20,15))\n",
    "ax = fig.add_subplot(111, projection='3d')\n",
    "ax.set_xlabel('Gamma power i', fontsize=17)\n",
    "ax.set_ylabel('Sigma power j', fontsize=17)\n",
    "ax.set_zlabel('Average MSE_validation', fontsize=17)\n",
    "surface = ax.plot_surface(X, Y, Z, cmap='rainbow')\n",
    "fig.colorbar(surface)\n",
    "fig.savefig('5(b).png', bbox_inches = 'tight')"
   ]
  },
  {
   "cell_type": "code",
   "execution_count": null,
   "metadata": {},
   "outputs": [],
   "source": [
    "w = kernel_ridge_regression(X_train, y_train, best_gamma, best_sigma)\n",
    "K_test = gaussian_kernel(X_train, X_test, best_sigma)\n",
    "K_train = gaussian_kernel(X_train, X_train, best_sigma)\n",
    "\n",
    "y_test_pred = K_test.T @ w\n",
    "y_train_pred = K_train.T @ w\n",
    "\n",
    "train_mse = np.mean((y_train - y_train_pred) ** 2)\n",
    "test_mse = np.mean((y_test - y_test_pred) ** 2)\n",
    "\n",
    "print(f\"Train MSE: {train_mse}, Test MSE: {test_mse}\")"
   ]
  },
  {
   "cell_type": "code",
   "execution_count": null,
   "metadata": {},
   "outputs": [],
   "source": [
    "csv_link = \"http://www.cs.ucl.ac.uk/staff/M.Herbster/boston-filter/Boston-filtered.csv\"\n",
    "data = pd.read_csv(csv_link)\n",
    "X = data.iloc[:, :-1]  # All columns except the last\n",
    "y = data.iloc[:, -1]\n",
    "results = {\"method\": [], \"train_mse\": [], \"test_mse\": []}\n",
    "Naive_result = defaultdict(list)\n",
    "Single_result = {f'Single Attribute{i+1}':defaultdict(list)for i in range(X.shape[1])}\n",
    "All_result = defaultdict(list)\n",
    "KRR_result = defaultdict(list)\n",
    "# Define number of runs\n",
    "num_runs = 20\n",
    "\n",
    "for _ in range(num_runs):\n",
    "    # Split data into training and testing sets (2/3 for training, 1/3 for testing)\n",
    "    X_train, X_test, y_train, y_test = train_test_split(X, y, test_size=1/3, random_state=None)\n",
    "\n",
    "    # (a) Predicting with the mean y-value on the training set\n",
    "    ones_train = np.ones_like(y_train).reshape(-1, 1)\n",
    "    ones_test = np.ones_like(y_test).reshape(-1, 1)\n",
    "\n",
    "    w_naive = linear_regression(ones_train, y_train)\n",
    "\n",
    "    y_train_pred_naive = ones_train@w_naive\n",
    "    y_test_pred_naive = ones_test@w_naive\n",
    "\n",
    "    train_mse_naive = np.mean((y_train - y_train_pred_naive) ** 2)\n",
    "    test_mse_naive = np.mean((y_test - y_test_pred_naive) ** 2)\n",
    "\n",
    "    Naive_result[\"train_mse\"].append(train_mse_naive)\n",
    "    Naive_result[\"test_mse\"].append(test_mse_naive)\n",
    "\n",
    "    # (b) Predicting with a single attribute and a bias term\n",
    "    for i in range(X.shape[1]):\n",
    "        X_single_train = X_train.iloc[:, i].values.reshape(-1, 1)\n",
    "        X_single_test = X_test.iloc[:, i].values.reshape(-1, 1)\n",
    "\n",
    "        X_single_train = X_single_train.reshape(-1)\n",
    "        X_single_train = extract_features(X_single_train, 1)\n",
    "        w_single = linear_regression(X_single_train, y_train)\n",
    "\n",
    "        X_single_test = X_single_test.reshape(-1)\n",
    "        X_single_test = extract_features(X_single_test, 1)\n",
    "\n",
    "        y_train_pred_singhe = X_single_train@w_single\n",
    "        y_test_pred_single = X_single_test@w_single\n",
    "\n",
    "        train_mse_single = np.mean((y_train-y_train_pred_singhe)**2)\n",
    "        test_mse_single = np.mean((y_test-y_test_pred_single)**2)\n",
    "\n",
    "        Single_result[f'Single Attribute{i+1}'][\"train_mse\"].append(train_mse_single)\n",
    "        Single_result[f'Single Attribute{i+1}'][\"test_mse\"].append(test_mse_single)\n",
    "\n",
    "    # (c) Predicting with all attributes\n",
    "    w_all = linear_regression(X_train, y_train)\n",
    "\n",
    "    y_train_pred_all = X_train@w_all\n",
    "    y_test_pred_all = X_test@w_all\n",
    "\n",
    "    train_mse_all = np.mean((y_train-y_train_pred_all)**2)\n",
    "    test_mse_all = np.mean((y_test-y_test_pred_all)**2)\n",
    "\n",
    "    All_result[\"train_mse\"].append(train_mse_all)\n",
    "    All_result[\"test_mse\"].append(test_mse_all)\n",
    "\n",
    "    # (d) Predicting with KRR\n",
    "    w = kernel_ridge_regression(X_train.values, y_train.values, best_gamma, best_sigma)\n",
    "    K_test = gaussian_kernel(X_train.values, X_test.values, best_sigma)\n",
    "    K_train = gaussian_kernel(X_train.values, X_train.values, best_sigma)\n",
    "\n",
    "    y_test_pred = K_test.T @ w\n",
    "    y_train_pred = K_train.T @ w\n",
    "\n",
    "    train_mse = np.mean((y_train - y_train_pred) ** 2)\n",
    "    test_mse = np.mean((y_test - y_test_pred) ** 2)\n",
    "\n",
    "    KRR_result[\"train_mse\"].append(train_mse)\n",
    "    KRR_result[\"test_mse\"].append(test_mse)\n",
    "\n",
    "Naive_result[\"train_mse\"] = np.mean(Naive_result[\"train_mse\"])\n",
    "Naive_result[\"test_mse\"] = np.mean(Naive_result[\"test_mse\"])\n",
    "\n",
    "print('question a')\n",
    "print(\"Naive method:\")\n",
    "print(f\"Train MSE: {Naive_result['train_mse']}\")\n",
    "print(f\"Test MSE: {Naive_result['test_mse']}\")\n",
    "print('')\n",
    "print('question b')\n",
    "print('The naive regression in problem a simply computes the mean of the training set and uses that as the prediction for all test data points.')\n",
    "print('')\n",
    "print('question c')\n",
    "for i in range(X.shape[1]):\n",
    "    Single_result[f'Single Attribute{i+1}'][\"train_mse\"] = np.mean(Single_result[f'Single Attribute{i+1}'][\"train_mse\"])\n",
    "    Single_result[f'Single Attribute{i+1}'][\"test_mse\"] = np.mean(Single_result[f'Single Attribute{i+1}'][\"test_mse\"])\n",
    "    print(f\"Single Attribute {i+1}:\")\n",
    "    print(f\"Train MSE: {Single_result[f'Single Attribute{i+1}']['train_mse']}\")\n",
    "    print(f\"Test MSE: {Single_result[f'Single Attribute{i+1}']['test_mse']}\")\n",
    "    print('')\n",
    "print('question d')\n",
    "All_result[\"train_mse\"] = np.mean(All_result[\"train_mse\"])\n",
    "All_result[\"test_mse\"] = np.mean(All_result[\"test_mse\"])\n",
    "print(\"All Attributes:\")\n",
    "print(f\"Train MSE: {All_result['train_mse']}\")\n",
    "print(f\"Test MSE: {All_result['test_mse']}\")\n",
    "print('')\n",
    "print('KRR')\n",
    "KRR_result[\"train_mse\"] = np.mean(KRR_result[\"train_mse\"])\n",
    "KRR_result[\"test_mse\"] = np.mean(KRR_result[\"test_mse\"])\n",
    "print(\"Kernel Ridge Regression:\")\n",
    "print(f\"Train MSE: {KRR_result['train_mse']}\")\n",
    "print(f\"Test MSE: {KRR_result['test_mse']}\")"
   ]
  },
  {
   "cell_type": "markdown",
   "metadata": {},
   "source": [
    "# PART 2 "
   ]
  },
  {
   "cell_type": "markdown",
   "metadata": {},
   "source": [
    "## 2.1 K-Nearest Neighbors"
   ]
  },
  {
   "cell_type": "code",
   "execution_count": 37,
   "metadata": {},
   "outputs": [],
   "source": [
    "import numpy as np\n",
    "import matplotlib.pyplot as plt\n",
    "from matplotlib.colors import ListedColormap"
   ]
  },
  {
   "cell_type": "markdown",
   "metadata": {},
   "source": [
    "### 2.1.1 Generating the Data"
   ]
  },
  {
   "cell_type": "code",
   "execution_count": 38,
   "metadata": {},
   "outputs": [
    {
     "data": {
      "image/png": "[encoded data removed]",
      "text/plain": [
       "<Figure size 800x600 with 1 Axes>"
      ]
     },
     "metadata": {},
     "output_type": "display_data"
    }
   ],
   "source": [
    "np.random.seed(77)\n",
    "S = 100\n",
    "X = np.random.rand(S, 2)\n",
    "y = np.random.choice([0, 1], size = S)\n",
    "\n",
    "def h_S_v(x_S, y_S, x, v):\n",
    "    distances = np.linalg.norm(x_S - x, axis=1)\n",
    "    nearest_indices = np.argsort(distances)[:v]\n",
    "    nearest_labels = y_S[nearest_indices]\n",
    "\n",
    "    return np.bincount(nearest_labels).argmax()\n",
    "\n",
    "def plot_boundary(x_S, y_S, v, resolution=200):\n",
    "\n",
    "    # Build Grid\n",
    "    x_min, x_max = 0, 1\n",
    "    y_min, y_max = 0, 1\n",
    "    xx, yy = np.meshgrid(np.linspace(x_min, x_max, resolution), np.linspace(y_min, y_max, resolution))\n",
    "    grid_points = np.c_[xx.ravel(), yy.ravel()]\n",
    "\n",
    "    predictions = np.array([h_S_v(x_S, y_S, point, v) for point in grid_points])\n",
    "    Z = predictions.reshape(xx.shape)\n",
    "\n",
    "    custom_cmap = ListedColormap(['white', 'turquoise'])\n",
    "    plt.figure(figsize=(8,6))\n",
    "    plt.contourf(xx, yy, Z, alpha = 0.5, cmap = custom_cmap)\n",
    "    plt.scatter(x_S[y_S == 0][:,0], x_S[y_S == 0][:,1], c = 'green', label = \"Label 0\")\n",
    "    plt.scatter(x_S[y_S == 1][:,0], x_S[y_S == 1][:,1], c = 'blue', label = \"Label 1\")\n",
    "    plt.title(\"Figure of h_{S,v}\")\n",
    "    plt.legend()\n",
    "    plt.show()\n",
    "\n",
    "plot_boundary(X, y , v = 3)\n"
   ]
  },
  {
   "cell_type": "markdown",
   "metadata": {},
   "source": [
    "### 2.1.2 Estimated generalization error of k-NN as a function of k"
   ]
  },
  {
   "cell_type": "code",
   "execution_count": 39,
   "metadata": {},
   "outputs": [
    {
     "data": {
      "image/png": "[encoded data removed]",
      "text/plain": [
       "<Figure size 800x600 with 1 Axes>"
      ]
     },
     "metadata": {},
     "output_type": "display_data"
    }
   ],
   "source": [
    "def generate_noise(S, v=3, size=1000, noise_prob=0.2):\n",
    "    x_S, y_S = S\n",
    "    X = np.random.rand(size, 2)\n",
    "    y = []\n",
    "    for x in X:\n",
    "        if np.random.rand() > noise_prob:\n",
    "            y.append(h_S_v(x_S, y_S, x, v))\n",
    "        else:\n",
    "            y.append(np.random.choice([0,1]))\n",
    "    return X, np.array(y)\n",
    "\n",
    "def calculate_error(X_train, y_train, X_test, y_test, k):\n",
    "    errors = 0\n",
    "    for i in range(len(X_test)):\n",
    "        pred = h_S_v(X_train, y_train, X_test[i], k)\n",
    "        if pred != y_test[i]:\n",
    "            errors += 1\n",
    "    return errors/len(X_test)\n",
    "\n",
    "def generalize_err(S, ks, runs = 100, train_size = 1000, test_size = 1000):\n",
    "    mean_errors = []\n",
    "    for k in ks:\n",
    "        errors = []\n",
    "        for _ in range(runs):\n",
    "            X_train, y_train = generate_noise(S, v=3, size=train_size, noise_prob=0.2)\n",
    "            X_test, y_test = generate_noise(S, v=3, size=test_size, noise_prob=0.2)\n",
    "\n",
    "            error = calculate_error(X_train, y_train, X_test, y_test, k)\n",
    "            errors.append(error)\n",
    "        mean_errors.append(np.mean(errors))\n",
    "    return mean_errors\n",
    "\n",
    "np.random.seed(77)\n",
    "S_size = 100\n",
    "x_S = np.random.rand(S_size, 2)\n",
    "y_S = np.random.choice([0, 1], size=S_size)\n",
    "S = (x_S, y_S)\n",
    "\n",
    "ks = range(1, 50)\n",
    "\n",
    "mean_errors = generalize_err(S, ks, runs=100, train_size=4000, test_size=1000)\n",
    "\n",
    "plt.figure(figsize=(8, 6))\n",
    "plt.plot(ks, mean_errors, marker='o', linestyle='-', color='b', label='Mean Generalization Error')\n",
    "plt.title('Mean Generalization Error vs k (Protocol A)')\n",
    "plt.xlabel('k')\n",
    "plt.ylabel('Mean Generalization Error')\n",
    "plt.grid()\n",
    "plt.legend()\n",
    "plt.show()"
   ]
  },
  {
   "cell_type": "markdown",
   "metadata": {},
   "source": [
    "### 2.1.3 Determine the optimal k as a function of the number of training points (m)"
   ]
  },
  {
   "cell_type": "code",
   "execution_count": 40,
   "metadata": {},
   "outputs": [
    {
     "data": {
      "image/png": "[encoded data removed]",
      "text/plain": [
       "<Figure size 800x600 with 1 Axes>"
      ]
     },
     "metadata": {},
     "output_type": "display_data"
    }
   ],
   "source": [
    "def optimal_k(S, ms, ks, runs=100, test_size=1000):\n",
    "    mean_optimal_ks = []\n",
    "\n",
    "    for m in ms:\n",
    "        optimal_ks = []\n",
    "        for _ in range(runs):\n",
    "            X_train, y_train = generate_noise(S, v=3, size=m, noise_prob=0.2)\n",
    "            X_test, y_test = generate_noise(S, v=3, size=test_size, noise_prob=0.2)\n",
    "            errors = [calculate_error(X_train, y_train, X_test, y_test, k) for k in ks]\n",
    "            optimal_k = ks[np.argmin(errors)]\n",
    "            optimal_ks.append(optimal_k)\n",
    "        mean_optimal_ks.append(np.mean(optimal_ks))\n",
    "    return mean_optimal_ks\n",
    "\n",
    "ms = [100, 500, 1000, 1500, 2000, 2500, 3000, 3500, 4000]\n",
    "ks = range(1, 50)\n",
    "\n",
    "np.random.seed(77)\n",
    "S_size = 100\n",
    "x_S = np.random.rand(S_size, 2)\n",
    "y_S = np.random.choice([0, 1], size=S_size)\n",
    "S = (x_S, y_S)\n",
    "\n",
    "mean_optimal_ks = optimal_k(S, ms, ks, runs=100, test_size=1000)\n",
    "\n",
    "plt.figure(figsize=(8, 6))\n",
    "plt.plot(ms, mean_optimal_ks, marker='o', linestyle='-', color='b', label='Optimal k')\n",
    "plt.title('Optimal k vs Training Size (Protocol B)')\n",
    "plt.xlabel('m')\n",
    "plt.ylabel('Optimal k')\n",
    "plt.grid()\n",
    "plt.legend()\n",
    "plt.show()"
   ]
  }
 ],
 "metadata": {
  "kernelspec": {
   "display_name": "comp0078",
   "language": "python",
   "name": "python3"
  },
  "language_info": {
   "codemirror_mode": {
    "name": "ipython",
    "version": 3
   },
   "file_extension": ".py",
   "mimetype": "text/x-python",
   "name": "python",
   "nbconvert_exporter": "python",
   "pygments_lexer": "ipython3",
   "version": "3.9.18"
  }
 },
 "nbformat": 4,
 "nbformat_minor": 2
}
