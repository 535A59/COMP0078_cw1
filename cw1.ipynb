{
 "cells": [
  {
   "cell_type": "markdown",
   "metadata": {},
   "source": [
    "# Supervised Learning Coursework 1 Coding Part"
   ]
  },
  {
   "cell_type": "code",
   "execution_count": 56,
   "metadata": {},
   "outputs": [],
   "source": [
    "import numpy as np\n",
    "import matplotlib.pyplot as plt\n",
    "from sklearn.linear_model import LinearRegression\n",
    "from sklearn.preprocessing import PolynomialFeatures"
   ]
  },
  {
   "cell_type": "markdown",
   "metadata": {},
   "source": [
    "##### Initialise condition for question a"
   ]
  },
  {
   "cell_type": "code",
   "execution_count": 2,
   "metadata": {},
   "outputs": [],
   "source": [
    "data_x = np.array([1, 2, 3, 4])\n",
    "data_y = np.array([3, 2, 0, 5])"
   ]
  },
  {
   "cell_type": "markdown",
   "metadata": {},
   "source": [
    "#### Question 1"
   ]
  },
  {
   "cell_type": "code",
   "execution_count": 177,
   "metadata": {},
   "outputs": [],
   "source": [
    "\n",
    "def extract_features(x, degree):\n",
    "    return np.array([x**i for i in range(degree + 1)]).T\n",
    "\n",
    "def linear_regression(X, y):\n",
    "    return np.linalg.solve(X.T @ X, X.T @ y)"
   ]
  },
  {
   "cell_type": "markdown",
   "metadata": {},
   "source": [
    "##### Question 1a"
   ]
  },
  {
   "cell_type": "code",
   "execution_count": null,
   "metadata": {},
   "outputs": [],
   "source": [
    "plt.figure(figsize=(10, 6))\n",
    "x_plot = np.linspace(0, 5, 500)\n",
    "\n",
    "for degree in range(0, 4):\n",
    "    X = extract_features(data_x, degree)\n",
    "    coeffs = linear_regression(X, data_y).round(2)\n",
    "    X_plot = extract_features(x_plot, degree)\n",
    "    y_plot = X_plot @ coeffs\n",
    "    plt.plot(x_plot, y_plot, label=f'k={degree}')\n",
    "\n",
    "plt.scatter(data_x, data_y, color='red', label='Data Points')\n",
    "plt.xlabel('x')\n",
    "plt.ylabel('y')\n",
    "plt.ylim(-5, 10)\n",
    "plt.title('Polynomial Fits for Different Degrees')\n",
    "plt.legend()\n",
    "plt.grid(True)\n",
    "ax = plt.gca()\n",
    "ax.spines['bottom'].set_position(('data', 0))\n",
    "ax.spines['left'].set_position(('data', 0))\n",
    "ax.spines['top'].set_visible(False)\n",
    "ax.spines['right'].set_visible(False)\n",
    "plt.show()"
   ]
  },
  {
   "cell_type": "markdown",
   "metadata": {},
   "source": [
    "##### Question 1b"
   ]
  },
  {
   "cell_type": "code",
   "execution_count": null,
   "metadata": {},
   "outputs": [],
   "source": [
    "for degree in range(0, 4):\n",
    "    X = extract_features(data_x, degree)\n",
    "    coeffs = linear_regression(X, data_y).round(2)\n",
    "    print(f\"Degree {degree+1} polynomial coefficients: {coeffs}\")"
   ]
  },
  {
   "cell_type": "markdown",
   "metadata": {},
   "source": [
    "##### Question 1c"
   ]
  },
  {
   "cell_type": "code",
   "execution_count": null,
   "metadata": {},
   "outputs": [],
   "source": [
    "for degree in range(0, 4):\n",
    "    X = extract_features(data_x, degree)\n",
    "    coeffs = linear_regression(X, data_y)\n",
    "    coeffs = coeffs.round(2)\n",
    "    y_pred = X @ coeffs\n",
    "    print(y_pred)\n",
    "    mse = np.mean((data_y - y_pred) ** 2)\n",
    "    print(f\"MSE for k={degree}: {mse}\")"
   ]
  },
  {
   "cell_type": "markdown",
   "metadata": {},
   "source": [
    "#### Question 2"
   ]
  },
  {
   "cell_type": "markdown",
   "metadata": {},
   "source": [
    "##### Question 2a i"
   ]
  },
  {
   "cell_type": "code",
   "execution_count": null,
   "metadata": {},
   "outputs": [],
   "source": [
    "def g_sigma(x, sigma):\n",
    "    noise = np.random.normal(0, sigma, size=len(x))\n",
    "    return np.sin(2 * np.pi * x)**2 + noise\n",
    "\n",
    "# 生成数据并绘图\n",
    "np.random.seed(0)\n",
    "x_sample = np.random.uniform(0,1,30)\n",
    "y_sample = g_sigma(x_sample, sigma=0.07)\n",
    "\n",
    "x_plot = np.linspace(0, 1, 500)\n",
    "y_plot = np.sin(2 * np.pi * x_plot)**2\n",
    "\n",
    "plt.figure(figsize=(10, 6))\n",
    "plt.plot(x_plot, y_plot, label='sin^2(2πx)')\n",
    "plt.scatter(x_sample, y_sample, color='red', label='Noisy Data Points')\n",
    "plt.xlabel('x')\n",
    "plt.ylabel('y')\n",
    "plt.title('Function with Noise')\n",
    "plt.legend()\n",
    "plt.grid(True)\n",
    "plt.show()"
   ]
  },
  {
   "cell_type": "markdown",
   "metadata": {},
   "source": [
    "##### Question 2a ii"
   ]
  },
  {
   "cell_type": "code",
   "execution_count": null,
   "metadata": {},
   "outputs": [],
   "source": [
    "degrees = [2, 5, 10, 14, 18]\n",
    "plt.figure(figsize=(10, 6))\n",
    "x_plot = np.linspace(0, 1, 500)\n",
    "for degree in degrees:\n",
    "    X = extract_features(x_sample, degree-1)\n",
    "    coeffs = linear_regression(X, y_sample)\n",
    "    X_plot = extract_features(x_plot, degree-1)\n",
    "    y_plot = X_plot @ coeffs\n",
    "    print(coeffs)\n",
    "    plt.plot(x_plot, y_plot, label=f'k={degree}')\n",
    "\n",
    "\n",
    "plt.scatter(x_sample, y_sample, color='red', label='Data Points')\n",
    "plt.xlabel('x')\n",
    "plt.ylabel('y')\n",
    "plt.title('Polynomial Fits for Different Degrees')\n",
    "plt.legend()\n",
    "plt.grid(True)\n",
    "plt.ylim(-1.5, 1.5)\n",
    "ax = plt.gca()\n",
    "ax.spines['bottom'].set_position(('data', 0))\n",
    "ax.spines['left'].set_position(('data', 0))\n",
    "ax.spines['top'].set_visible(False)\n",
    "ax.spines['right'].set_visible(False)\n",
    "plt.show()\n"
   ]
  },
  {
   "cell_type": "code",
   "execution_count": null,
   "metadata": {},
   "outputs": [],
   "source": [
    "training_errors = []\n",
    "degrees = [i for i in range(1,19)]\n",
    "for degree in range(0,18):\n",
    "    X = extract_features(x_sample, degree)\n",
    "    coeffs = linear_regression(X, y_sample)\n",
    "    y_pred = X @ coeffs\n",
    "    mse = np.mean((y_sample-y_pred)**2)\n",
    "    training_errors.append(mse)\n",
    "plt.figure(figsize=(10, 6))\n",
    "plt.plot(degrees, np.log(training_errors), marker='o')\n",
    "plt.xlabel('Polynomial Dimension (k)')\n",
    "plt.ylabel('ln(MSE)')\n",
    "plt.title('Log Training Error vs Polynomial Dimension')\n",
    "plt.grid(True)\n",
    "plt.show()\n",
    "print(training_errors)"
   ]
  }
 ],
 "metadata": {
  "kernelspec": {
   "display_name": "Machine_Learning",
   "language": "python",
   "name": "python3"
  },
  "language_info": {
   "codemirror_mode": {
    "name": "ipython",
    "version": 3
   },
   "file_extension": ".py",
   "mimetype": "text/x-python",
   "name": "python",
   "nbconvert_exporter": "python",
   "pygments_lexer": "ipython3",
   "version": "3.10.12"
  }
 },
 "nbformat": 4,
 "nbformat_minor": 2
}
